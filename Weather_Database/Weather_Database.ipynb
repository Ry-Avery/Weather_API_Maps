{
 "cells": [
  {
   "cell_type": "code",
   "execution_count": 2,
   "id": "85aaffd7",
   "metadata": {},
   "outputs": [],
   "source": [
    "# Import Dependencies\n",
    "import os\n",
    "import pandas as pd\n",
    "import numpy as np\n",
    "from citipy import citipy\n",
    "import requests\n",
    "from dotenv import load_dotenv\n",
    "#Load API Keys\n",
    "load_dotenv()\n",
    "openweatherapp_API_key=os.getenv('openweatherapp_API_key')"
   ]
  }
 ],
 "metadata": {
  "kernelspec": {
   "display_name": "PythonData",
   "language": "python",
   "name": "pythondata"
  },
  "language_info": {
   "codemirror_mode": {
    "name": "ipython",
    "version": 3
   },
   "file_extension": ".py",
   "mimetype": "text/x-python",
   "name": "python",
   "nbconvert_exporter": "python",
   "pygments_lexer": "ipython3",
   "version": "3.7.11"
  }
 },
 "nbformat": 4,
 "nbformat_minor": 5
}
